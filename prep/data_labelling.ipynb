{
 "metadata": {
  "language_info": {
   "codemirror_mode": {
    "name": "ipython",
    "version": 3
   },
   "file_extension": ".py",
   "mimetype": "text/x-python",
   "name": "python",
   "nbconvert_exporter": "python",
   "pygments_lexer": "ipython3",
   "version": "3.7.7"
  },
  "orig_nbformat": 2,
  "kernelspec": {
   "name": "python377jvsc74a57bd04bb1e4530916b593ff0b77db9344d395f0b01f113625b889692c84685d0d648d",
   "display_name": "Python 3.7.7 64-bit ('teddy')"
  }
 },
 "nbformat": 4,
 "nbformat_minor": 2,
 "cells": [
  {
   "source": [
    "import kss\n",
    "from pykospacing import spacing\n",
    "from hanspell import spell_checker\n",
    "import re\n",
    "import pandas as pd \n",
    "\n",
    "# 데이터 전처리\n",
    "def preprocessing(text_list):\n",
    "    sen_token=[]\n",
    "    for text in text_list:\n",
    "        for sen in kss.split_sentences(text)[2:]: \n",
    "            sen_text=re.compile('[^가-힣0-9ㄱ-ㅎㅏ-ㅣ^]+').sub(' ', sen).strip()\n",
    "            if len(sen_text)>=15: \n",
    "                sen_token.append(sen_text)\n",
    "\n",
    "    return sen_token\n"
   ],
   "cell_type": "code",
   "metadata": {},
   "execution_count": 3,
   "outputs": []
  },
  {
   "cell_type": "code",
   "execution_count": 4,
   "metadata": {},
   "outputs": [
    {
     "output_type": "stream",
     "name": "stderr",
     "text": [
      "c:\\Users\\WIN10\\Desktop\\workspace\\Teddy Project\\teddy\\lib\\site-packages\\openpyxl\\worksheet\\_reader.py:312: UserWarning: Unknown extension is not supported and will be removed\n  warn(msg)\n"
     ]
    }
   ],
   "source": [
    "#감성사전 불러오기\n",
    "df=pd.read_excel(\"감성사전_update.xlsx\")\n",
    "\n",
    "love_dic=[]\n",
    "joy_dic=[]\n",
    "sadness_dic=[]\n",
    "anger_dic=[]\n",
    "fear_dic=[]\n",
    "\n",
    "for idx in range(len(df)):\n",
    "    if df.iloc[idx][1]==\"사랑\":\n",
    "        love_dic.append(df.iloc[idx][0])\n",
    "\n",
    "    elif df.iloc[idx][1]==\"기쁨\":\n",
    "        joy_dic.append(df.iloc[idx][0])\n",
    "\n",
    "    elif df.iloc[idx][1]==\"슬픔\":\n",
    "        sadness_dic.append(df.iloc[idx][0])\n",
    "\n",
    "    elif df.iloc[idx][1]==\"분노\":\n",
    "        anger_dic.append(df.iloc[idx][0])\n",
    "\n",
    "    elif df.iloc[idx][1]==\"공포\":\n",
    "        fear_dic.append(df.iloc[idx][0])"
   ]
  },
  {
   "cell_type": "code",
   "execution_count": 26,
   "metadata": {},
   "outputs": [
    {
     "output_type": "stream",
     "name": "stdout",
     "text": [
      "28544\n",
      "2997\n",
      "38452\n",
      "3275\n",
      "63361\n",
      "4068\n",
      "44034\n",
      "2452\n",
      "48882\n",
      "3258\n",
      "59803\n",
      "4279\n",
      "46558\n",
      "3892\n",
      "50250\n",
      "6016\n",
      "36793\n",
      "2106\n",
      "25974\n",
      "1615\n"
     ]
    }
   ],
   "source": [
    "import pandas as pd \n",
    "from konlpy.tag import Mecab \n",
    "mecab=Mecab(dicpath=r\"C:\\mecab\\mecab-ko-dic\")\n",
    "\n",
    "blog_name_list=[\"공포 소설\", \"그리움 서평\", \"슬프다 에세이\", \"두려움 소설\", \"범죄 서평\", \"분노 문학\", \"분노 소설\", \"사랑 소설 서평\", \"사랑 에세이 책\", \"행복 서평\", \"행복 책\"] \n",
    "#brunch_name_list=[\"angry\", \"happy\", \"love_farewell\", \"movie_review\", \"sad\", \"scary\", \"senti_essay\"]\n",
    "\n",
    "for name in blog_name_list:\n",
    "    df=pd.read_excel(\"data\\\\\"+name+\"_new text.xlsx\")\n",
    "    text_list=list(df['text'])\n",
    "\n",
    "    label_df=pd.DataFrame(columns=['sentence', 'label'])\n",
    "    tokens=preprocessing(text_list)\n",
    "    print(len(tokens))\n",
    "\n",
    "    for sentence in tokens:\n",
    "        score = {'기쁨': 0, '슬픔': 0, '분노': 0, '사랑': 0, '공포': 0}\n",
    "        mecab_tokens=mecab.morphs(sentence)\n",
    "        for token in mecab_tokens:\n",
    "            if token in love_dic:\n",
    "                score['사랑']+= 1\n",
    "            elif token in sadness_dic:\n",
    "                score['슬픔']+=1\n",
    "            elif token in joy_dic:\n",
    "                score['기쁨']+=1\n",
    "            elif token in anger_dic:\n",
    "                score['분노']+=1\n",
    "            elif token in fear_dic:\n",
    "                score['공포']+=1\n",
    "                \n",
    "        max_label = max(score, key = score.get)\n",
    "        \n",
    "        if score[max_label]>=2:\n",
    "            label_df=label_df.append({'sentence' : sentence , 'label' : max_label} , ignore_index=True)\n",
    "        \n",
    "    print(len(label_df))\n",
    "\n",
    "    label_df.to_excel(name+\"_label.xlsx\", index=False)\n"
   ]
  },
  {
   "cell_type": "code",
   "execution_count": null,
   "metadata": {},
   "outputs": [],
   "source": []
  }
 ]
}